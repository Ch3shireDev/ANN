{
 "cells": [
  {
   "cell_type": "markdown",
   "metadata": {},
   "source": [
    "# Neural Networks\n",
    "\n",
    "For start some nomenclature. We have simple structures called **neurons** and wires called **synapses**. Each synapse have it's weight (single real number) which adds it's contribution to the overall sum:\n",
    "\n",
    "![](http://i0.wp.com/www.jessicayung.com/wp-content/uploads/2016/12/perceptron.png)"
   ]
  },
  {
   "cell_type": "markdown",
   "metadata": {},
   "source": [
    "Often there is also added weight of constant value (1) which is called **bias**. After summing all weights neuron process them by step function (often sigmoid is used), $f$:\n",
    "\n",
    "$$f(x) = \\frac{1}{1+e^{-x}}$$"
   ]
  },
  {
   "cell_type": "markdown",
   "metadata": {},
   "source": [
    "Whole neural network is built from input layer (layer of input values which are sent to synapses), hidden layers (layers of neurons processing signals, inside network) and output layer.\n",
    "\n",
    "![](http://neuralnetworksanddeeplearning.com/images/tikz11.png)"
   ]
  },
  {
   "cell_type": "markdown",
   "metadata": {},
   "source": [
    "Thankfully we don't have to model each neuron in network - we can get whole layer as single matrix. Let's say we have only one hidden layer:\n",
    "\n",
    "![](http://neuralnetworksanddeeplearning.com/images/tikz10.png)"
   ]
  },
  {
   "cell_type": "markdown",
   "metadata": {},
   "source": [
    "We can describe whole process by two equations:\n",
    "\n",
    "$$x^1_j = f\\circ\\sum_i \\big(W_0\\big)^i_j\\cdot x^0_i,$$\n",
    "$$y_j = f\\circ\\sum_i \\big(W_1\\big)^i_j\\cdot x^1_i,$$\n",
    "\n",
    "where $x_i^0$ are output values (shown as a vector $\\mathbf x^0$) and $y_j$ are output values (shown as a vector $\\mathbf y$). In matrix notation we often ommit summation symbols:\n",
    "\n",
    "$$x^1 = f\\circ W_0 \\cdot x^0,$$\n",
    "$$y = f\\circ W_1 \\cdot x^1,$$\n",
    "\n",
    "which we can fold into one equation:\n",
    "\n",
    "$$ y = f\\circ W_1 \\cdot f \\circ W_0 \\cdot x.$$\n",
    "\n",
    "During the calculations I often write $f\\circ W$. It's because I try to use NumPy notation where we can actually pass vector to single value function:\n",
    "\n",
    "$$ g(x) = x^2,$$\n",
    "$$ g\\circ\\begin{bmatrix}x\\\\y\\end{bmatrix} = \\begin{bmatrix}x^2\\\\y^2\\end{bmatrix}.$$\n",
    "\n",
    "With use of $\\circ$ symbol I often want to remember that we, in fact, pass a set of values to the function instead of simply multiply two values (or even two matrices)."
   ]
  },
  {
   "cell_type": "code",
   "execution_count": null,
   "metadata": {
    "collapsed": true
   },
   "outputs": [],
   "source": []
  }
 ],
 "metadata": {
  "kernelspec": {
   "display_name": "Python 3",
   "language": "python",
   "name": "python3"
  },
  "language_info": {
   "codemirror_mode": {
    "name": "ipython",
    "version": 3
   },
   "file_extension": ".py",
   "mimetype": "text/x-python",
   "name": "python",
   "nbconvert_exporter": "python",
   "pygments_lexer": "ipython3",
   "version": "3.6.3"
  }
 },
 "nbformat": 4,
 "nbformat_minor": 2
}
